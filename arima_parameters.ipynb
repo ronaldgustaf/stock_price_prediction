{
 "cells": [
  {
   "cell_type": "code",
   "execution_count": 19,
   "metadata": {},
   "outputs": [],
   "source": [
    "import numpy as np\n",
    "import pandas as pd\n",
    "from matplotlib import pyplot as plt\n",
    "from statsmodels.tsa.stattools import adfuller\n",
    "from statsmodels.graphics.tsaplots import plot_acf, plot_pacf\n",
    "from statsmodels.tsa.arima.model import ARIMA\n",
    "from pmdarima.arima import auto_arima"
   ]
  },
  {
   "cell_type": "code",
   "execution_count": 2,
   "metadata": {},
   "outputs": [],
   "source": [
    "hsbc = pd.read_excel(\"data.xlsx\", sheet_name=\"0005.HK\")\n",
    "gal = pd.read_excel(\"data.xlsx\", sheet_name=\"0027.HK\")\n",
    "hl = pd.read_excel(\"data.xlsx\", sheet_name=\"0101.HK\")"
   ]
  },
  {
   "cell_type": "code",
   "execution_count": 3,
   "metadata": {},
   "outputs": [
    {
     "data": {
      "text/html": [
       "<div>\n",
       "<style scoped>\n",
       "    .dataframe tbody tr th:only-of-type {\n",
       "        vertical-align: middle;\n",
       "    }\n",
       "\n",
       "    .dataframe tbody tr th {\n",
       "        vertical-align: top;\n",
       "    }\n",
       "\n",
       "    .dataframe thead th {\n",
       "        text-align: right;\n",
       "    }\n",
       "</style>\n",
       "<table border=\"1\" class=\"dataframe\">\n",
       "  <thead>\n",
       "    <tr style=\"text-align: right;\">\n",
       "      <th></th>\n",
       "      <th>Date</th>\n",
       "      <th>Open</th>\n",
       "      <th>High</th>\n",
       "      <th>Low</th>\n",
       "      <th>Close</th>\n",
       "      <th>Adj Close</th>\n",
       "      <th>Volume</th>\n",
       "    </tr>\n",
       "  </thead>\n",
       "  <tbody>\n",
       "    <tr>\n",
       "      <th>0</th>\n",
       "      <td>2000-01-03</td>\n",
       "      <td>111.000000</td>\n",
       "      <td>111.500000</td>\n",
       "      <td>107.500000</td>\n",
       "      <td>108.000000</td>\n",
       "      <td>53.067974</td>\n",
       "      <td>3908164.0</td>\n",
       "    </tr>\n",
       "    <tr>\n",
       "      <th>1</th>\n",
       "      <td>2000-01-04</td>\n",
       "      <td>106.000000</td>\n",
       "      <td>106.500000</td>\n",
       "      <td>105.000000</td>\n",
       "      <td>106.000000</td>\n",
       "      <td>52.085232</td>\n",
       "      <td>6895378.0</td>\n",
       "    </tr>\n",
       "    <tr>\n",
       "      <th>2</th>\n",
       "      <td>2000-01-05</td>\n",
       "      <td>101.000000</td>\n",
       "      <td>102.000000</td>\n",
       "      <td>99.500000</td>\n",
       "      <td>100.500000</td>\n",
       "      <td>49.382702</td>\n",
       "      <td>14657098.0</td>\n",
       "    </tr>\n",
       "    <tr>\n",
       "      <th>3</th>\n",
       "      <td>2000-01-06</td>\n",
       "      <td>101.000000</td>\n",
       "      <td>102.000000</td>\n",
       "      <td>96.250000</td>\n",
       "      <td>97.000000</td>\n",
       "      <td>47.662907</td>\n",
       "      <td>10632084.0</td>\n",
       "    </tr>\n",
       "    <tr>\n",
       "      <th>4</th>\n",
       "      <td>2000-01-07</td>\n",
       "      <td>98.500000</td>\n",
       "      <td>101.000000</td>\n",
       "      <td>97.500000</td>\n",
       "      <td>100.500000</td>\n",
       "      <td>49.382702</td>\n",
       "      <td>8368286.0</td>\n",
       "    </tr>\n",
       "    <tr>\n",
       "      <th>...</th>\n",
       "      <td>...</td>\n",
       "      <td>...</td>\n",
       "      <td>...</td>\n",
       "      <td>...</td>\n",
       "      <td>...</td>\n",
       "      <td>...</td>\n",
       "      <td>...</td>\n",
       "    </tr>\n",
       "    <tr>\n",
       "      <th>5778</th>\n",
       "      <td>2023-02-15</td>\n",
       "      <td>58.200001</td>\n",
       "      <td>58.200001</td>\n",
       "      <td>57.150002</td>\n",
       "      <td>57.549999</td>\n",
       "      <td>57.549999</td>\n",
       "      <td>16059738.0</td>\n",
       "    </tr>\n",
       "    <tr>\n",
       "      <th>5779</th>\n",
       "      <td>2023-02-16</td>\n",
       "      <td>57.950001</td>\n",
       "      <td>58.150002</td>\n",
       "      <td>57.700001</td>\n",
       "      <td>58.099998</td>\n",
       "      <td>58.099998</td>\n",
       "      <td>12427999.0</td>\n",
       "    </tr>\n",
       "    <tr>\n",
       "      <th>5780</th>\n",
       "      <td>2023-02-17</td>\n",
       "      <td>58.000000</td>\n",
       "      <td>58.299999</td>\n",
       "      <td>58.000000</td>\n",
       "      <td>58.200001</td>\n",
       "      <td>58.200001</td>\n",
       "      <td>15946227.0</td>\n",
       "    </tr>\n",
       "    <tr>\n",
       "      <th>5781</th>\n",
       "      <td>2023-02-20</td>\n",
       "      <td>58.400002</td>\n",
       "      <td>58.900002</td>\n",
       "      <td>58.200001</td>\n",
       "      <td>58.750000</td>\n",
       "      <td>58.750000</td>\n",
       "      <td>18946483.0</td>\n",
       "    </tr>\n",
       "    <tr>\n",
       "      <th>5782</th>\n",
       "      <td>2023-02-21</td>\n",
       "      <td>58.350000</td>\n",
       "      <td>59.450000</td>\n",
       "      <td>57.100000</td>\n",
       "      <td>57.600000</td>\n",
       "      <td>57.600000</td>\n",
       "      <td>39165969.0</td>\n",
       "    </tr>\n",
       "  </tbody>\n",
       "</table>\n",
       "<p>5783 rows × 7 columns</p>\n",
       "</div>"
      ],
      "text/plain": [
       "           Date        Open        High         Low       Close  Adj Close  \\\n",
       "0    2000-01-03  111.000000  111.500000  107.500000  108.000000  53.067974   \n",
       "1    2000-01-04  106.000000  106.500000  105.000000  106.000000  52.085232   \n",
       "2    2000-01-05  101.000000  102.000000   99.500000  100.500000  49.382702   \n",
       "3    2000-01-06  101.000000  102.000000   96.250000   97.000000  47.662907   \n",
       "4    2000-01-07   98.500000  101.000000   97.500000  100.500000  49.382702   \n",
       "...         ...         ...         ...         ...         ...        ...   \n",
       "5778 2023-02-15   58.200001   58.200001   57.150002   57.549999  57.549999   \n",
       "5779 2023-02-16   57.950001   58.150002   57.700001   58.099998  58.099998   \n",
       "5780 2023-02-17   58.000000   58.299999   58.000000   58.200001  58.200001   \n",
       "5781 2023-02-20   58.400002   58.900002   58.200001   58.750000  58.750000   \n",
       "5782 2023-02-21   58.350000   59.450000   57.100000   57.600000  57.600000   \n",
       "\n",
       "          Volume  \n",
       "0      3908164.0  \n",
       "1      6895378.0  \n",
       "2     14657098.0  \n",
       "3     10632084.0  \n",
       "4      8368286.0  \n",
       "...          ...  \n",
       "5778  16059738.0  \n",
       "5779  12427999.0  \n",
       "5780  15946227.0  \n",
       "5781  18946483.0  \n",
       "5782  39165969.0  \n",
       "\n",
       "[5783 rows x 7 columns]"
      ]
     },
     "execution_count": 3,
     "metadata": {},
     "output_type": "execute_result"
    }
   ],
   "source": [
    "hsbc"
   ]
  },
  {
   "cell_type": "code",
   "execution_count": 4,
   "metadata": {},
   "outputs": [
    {
     "name": "stdout",
     "output_type": "stream",
     "text": [
      "<class 'pandas.core.frame.DataFrame'>\n",
      "RangeIndex: 5783 entries, 0 to 5782\n",
      "Data columns (total 7 columns):\n",
      " #   Column     Non-Null Count  Dtype         \n",
      "---  ------     --------------  -----         \n",
      " 0   Date       5783 non-null   datetime64[ns]\n",
      " 1   Open       5781 non-null   float64       \n",
      " 2   High       5781 non-null   float64       \n",
      " 3   Low        5781 non-null   float64       \n",
      " 4   Close      5781 non-null   float64       \n",
      " 5   Adj Close  5781 non-null   float64       \n",
      " 6   Volume     5781 non-null   float64       \n",
      "dtypes: datetime64[ns](1), float64(6)\n",
      "memory usage: 316.4 KB\n"
     ]
    }
   ],
   "source": [
    "hsbc.info()"
   ]
  },
  {
   "cell_type": "code",
   "execution_count": 5,
   "metadata": {},
   "outputs": [
    {
     "data": {
      "text/plain": [
       "[<matplotlib.lines.Line2D at 0x1e12c528580>]"
      ]
     },
     "execution_count": 5,
     "metadata": {},
     "output_type": "execute_result"
    },
    {
     "data": {
      "image/png": "[encoded data removed]",
      "text/plain": [
       "<Figure size 432x288 with 1 Axes>"
      ]
     },
     "metadata": {
      "needs_background": "light"
     },
     "output_type": "display_data"
    }
   ],
   "source": [
    "plt.plot(hsbc['Date'], hsbc['Adj Close'])"
   ]
  },
  {
   "cell_type": "code",
   "execution_count": 6,
   "metadata": {},
   "outputs": [],
   "source": [
    "hsbc_train = hsbc[hsbc['Date'] <= '2022-12-31'].loc[:, ['Date', 'Adj Close']]\n",
    "hsbc_train.set_index('Date', inplace=True)\n",
    "\n",
    "hsbc_test = hsbc[hsbc['Date'] > '2022-12-31'].loc[:, ['Date', 'Adj Close']]\n",
    "hsbc_test.set_index('Date', inplace=True)"
   ]
  },
  {
   "cell_type": "code",
   "execution_count": 7,
   "metadata": {},
   "outputs": [
    {
     "data": {
      "text/html": [
       "<div>\n",
       "<style scoped>\n",
       "    .dataframe tbody tr th:only-of-type {\n",
       "        vertical-align: middle;\n",
       "    }\n",
       "\n",
       "    .dataframe tbody tr th {\n",
       "        vertical-align: top;\n",
       "    }\n",
       "\n",
       "    .dataframe thead th {\n",
       "        text-align: right;\n",
       "    }\n",
       "</style>\n",
       "<table border=\"1\" class=\"dataframe\">\n",
       "  <thead>\n",
       "    <tr style=\"text-align: right;\">\n",
       "      <th></th>\n",
       "      <th>Adj Close</th>\n",
       "    </tr>\n",
       "    <tr>\n",
       "      <th>Date</th>\n",
       "      <th></th>\n",
       "    </tr>\n",
       "  </thead>\n",
       "  <tbody>\n",
       "    <tr>\n",
       "      <th>2022-12-22</th>\n",
       "      <td>48.200001</td>\n",
       "    </tr>\n",
       "    <tr>\n",
       "      <th>2022-12-23</th>\n",
       "      <td>47.900002</td>\n",
       "    </tr>\n",
       "    <tr>\n",
       "      <th>2022-12-28</th>\n",
       "      <td>48.500000</td>\n",
       "    </tr>\n",
       "    <tr>\n",
       "      <th>2022-12-29</th>\n",
       "      <td>48.400002</td>\n",
       "    </tr>\n",
       "    <tr>\n",
       "      <th>2022-12-30</th>\n",
       "      <td>48.549999</td>\n",
       "    </tr>\n",
       "  </tbody>\n",
       "</table>\n",
       "</div>"
      ],
      "text/plain": [
       "            Adj Close\n",
       "Date                 \n",
       "2022-12-22  48.200001\n",
       "2022-12-23  47.900002\n",
       "2022-12-28  48.500000\n",
       "2022-12-29  48.400002\n",
       "2022-12-30  48.549999"
      ]
     },
     "execution_count": 7,
     "metadata": {},
     "output_type": "execute_result"
    }
   ],
   "source": [
    "hsbc_train.tail()"
   ]
  },
  {
   "cell_type": "code",
   "execution_count": 8,
   "metadata": {},
   "outputs": [
    {
     "data": {
      "text/plain": [
       "2"
      ]
     },
     "execution_count": 8,
     "metadata": {},
     "output_type": "execute_result"
    }
   ],
   "source": [
    "hsbc_train['Adj Close'].isna().sum()"
   ]
  },
  {
   "cell_type": "code",
   "execution_count": 9,
   "metadata": {},
   "outputs": [
    {
     "data": {
      "text/html": [
       "<div>\n",
       "<style scoped>\n",
       "    .dataframe tbody tr th:only-of-type {\n",
       "        vertical-align: middle;\n",
       "    }\n",
       "\n",
       "    .dataframe tbody tr th {\n",
       "        vertical-align: top;\n",
       "    }\n",
       "\n",
       "    .dataframe thead th {\n",
       "        text-align: right;\n",
       "    }\n",
       "</style>\n",
       "<table border=\"1\" class=\"dataframe\">\n",
       "  <thead>\n",
       "    <tr style=\"text-align: right;\">\n",
       "      <th></th>\n",
       "      <th>Adj Close</th>\n",
       "    </tr>\n",
       "    <tr>\n",
       "      <th>Date</th>\n",
       "      <th></th>\n",
       "    </tr>\n",
       "  </thead>\n",
       "  <tbody>\n",
       "  </tbody>\n",
       "</table>\n",
       "</div>"
      ],
      "text/plain": [
       "Empty DataFrame\n",
       "Columns: [Adj Close]\n",
       "Index: []"
      ]
     },
     "execution_count": 9,
     "metadata": {},
     "output_type": "execute_result"
    }
   ],
   "source": [
    "hsbc_train[hsbc_train['Adj Close'] == 0]"
   ]
  },
  {
   "cell_type": "code",
   "execution_count": 10,
   "metadata": {},
   "outputs": [
    {
     "data": {
      "text/html": [
       "<div>\n",
       "<style scoped>\n",
       "    .dataframe tbody tr th:only-of-type {\n",
       "        vertical-align: middle;\n",
       "    }\n",
       "\n",
       "    .dataframe tbody tr th {\n",
       "        vertical-align: top;\n",
       "    }\n",
       "\n",
       "    .dataframe thead th {\n",
       "        text-align: right;\n",
       "    }\n",
       "</style>\n",
       "<table border=\"1\" class=\"dataframe\">\n",
       "  <thead>\n",
       "    <tr style=\"text-align: right;\">\n",
       "      <th></th>\n",
       "      <th>Adj Close</th>\n",
       "    </tr>\n",
       "    <tr>\n",
       "      <th>Date</th>\n",
       "      <th></th>\n",
       "    </tr>\n",
       "  </thead>\n",
       "  <tbody>\n",
       "    <tr>\n",
       "      <th>2011-12-24</th>\n",
       "      <td>NaN</td>\n",
       "    </tr>\n",
       "    <tr>\n",
       "      <th>2011-12-31</th>\n",
       "      <td>NaN</td>\n",
       "    </tr>\n",
       "  </tbody>\n",
       "</table>\n",
       "</div>"
      ],
      "text/plain": [
       "            Adj Close\n",
       "Date                 \n",
       "2011-12-24        NaN\n",
       "2011-12-31        NaN"
      ]
     },
     "execution_count": 10,
     "metadata": {},
     "output_type": "execute_result"
    }
   ],
   "source": [
    "hsbc_train[hsbc_train['Adj Close'].isna()]"
   ]
  },
  {
   "cell_type": "code",
   "execution_count": 11,
   "metadata": {},
   "outputs": [],
   "source": [
    "hsbc_train['Adj Close'] = hsbc_train['Adj Close'].interpolate(method='linear')\n"
   ]
  },
  {
   "cell_type": "code",
   "execution_count": 12,
   "metadata": {},
   "outputs": [
    {
     "name": "stderr",
     "output_type": "stream",
     "text": [
      "c:\\Users\\RonaldGustaf\\AppData\\Local\\Programs\\Python\\Python310\\lib\\site-packages\\statsmodels\\graphics\\tsaplots.py:348: FutureWarning: The default method 'yw' can produce PACF values outside of the [-1,1] interval. After 0.13, the default will change tounadjusted Yule-Walker ('ywm'). You can use this method now by setting method='ywm'.\n",
      "  warnings.warn(\n"
     ]
    },
    {
     "data": {
      "image/png": "[encoded data removed]",
      "text/plain": [
       "<Figure size 432x288 with 1 Axes>"
      ]
     },
     "metadata": {
      "needs_background": "light"
     },
     "output_type": "display_data"
    },
    {
     "data": {
      "image/png": "[encoded data removed]",
      "text/plain": [
       "<Figure size 432x288 with 1 Axes>"
      ]
     },
     "metadata": {
      "needs_background": "light"
     },
     "output_type": "display_data"
    }
   ],
   "source": [
    "hsbc_acf = plot_acf(hsbc_train['Adj Close'])\n",
    "hsbc_pacf = plot_pacf(hsbc_train['Adj Close'])"
   ]
  },
  {
   "attachments": {},
   "cell_type": "markdown",
   "metadata": {},
   "source": [
    "ACF plot high and positive with very very slow decrease.\n",
    "PACF plot have single spike at lag 1.\n",
    "\n",
    "Both signs of a trended time series -> not stationary."
   ]
  },
  {
   "cell_type": "code",
   "execution_count": 13,
   "metadata": {},
   "outputs": [
    {
     "name": "stdout",
     "output_type": "stream",
     "text": [
      "p-value: 0.1354992348055415\n"
     ]
    }
   ],
   "source": [
    "adf_test = adfuller(hsbc_train['Adj Close'])\n",
    "print(f'p-value: {adf_test[1]}')"
   ]
  },
  {
   "cell_type": "code",
   "execution_count": 14,
   "metadata": {},
   "outputs": [
    {
     "data": {
      "text/plain": [
       "Date\n",
       "2000-01-03         NaN\n",
       "2000-01-04   -0.982742\n",
       "2000-01-05   -2.702530\n",
       "2000-01-06   -1.719795\n",
       "2000-01-07    1.719795\n",
       "                ...   \n",
       "2022-12-22    0.700001\n",
       "2022-12-23   -0.299999\n",
       "2022-12-28    0.599998\n",
       "2022-12-29   -0.099998\n",
       "2022-12-30    0.149997\n",
       "Name: Adj Close, Length: 5750, dtype: float64"
      ]
     },
     "execution_count": 14,
     "metadata": {},
     "output_type": "execute_result"
    }
   ],
   "source": [
    "hsbc_train['Adj Close'].diff()"
   ]
  },
  {
   "cell_type": "code",
   "execution_count": 15,
   "metadata": {},
   "outputs": [
    {
     "name": "stdout",
     "output_type": "stream",
     "text": [
      "p-value: 0.1354992348055415\n",
      "p-value: 0.0\n",
      "p-value: 0.0\n"
     ]
    }
   ],
   "source": [
    "adf_test = adfuller(hsbc_train['Adj Close'])\n",
    "print(f'p-value: {adf_test[1]}')\n",
    "\n",
    "adf_test = adfuller(hsbc_train['Adj Close'].diff().dropna())\n",
    "print(f'p-value: {adf_test[1]}')\n",
    "\n",
    "adf_test = adfuller(hsbc_train['Adj Close'].diff().diff().dropna())\n",
    "print(f'p-value: {adf_test[1]}')"
   ]
  },
  {
   "attachments": {},
   "cell_type": "markdown",
   "metadata": {},
   "source": [
    "after finding the 1st difference, the p-value is already < 0.05, so we can set the parameter d=1"
   ]
  },
  {
   "cell_type": "code",
   "execution_count": 16,
   "metadata": {},
   "outputs": [
    {
     "data": {
      "image/png": "[encoded data removed]",
      "text/plain": [
       "<Figure size 1440x504 with 1 Axes>"
      ]
     },
     "metadata": {
      "needs_background": "light"
     },
     "output_type": "display_data"
    },
    {
     "name": "stderr",
     "output_type": "stream",
     "text": [
      "c:\\Users\\RonaldGustaf\\AppData\\Local\\Programs\\Python\\Python310\\lib\\site-packages\\statsmodels\\graphics\\tsaplots.py:348: FutureWarning: The default method 'yw' can produce PACF values outside of the [-1,1] interval. After 0.13, the default will change tounadjusted Yule-Walker ('ywm'). You can use this method now by setting method='ywm'.\n",
      "  warnings.warn(\n"
     ]
    },
    {
     "data": {
      "image/png": "[encoded data removed]",
      "text/plain": [
       "<Figure size 1440x504 with 1 Axes>"
      ]
     },
     "metadata": {
      "needs_background": "light"
     },
     "output_type": "display_data"
    }
   ],
   "source": [
    "fig, ax = plt.subplots(figsize=(20,7))\n",
    "acf = plot_acf(hsbc_train['Adj Close'].diff().dropna(), ax=ax)\n",
    "plt.show()\n",
    "\n",
    "fig, ax = plt.subplots(figsize=(20,7))\n",
    "pacf = plot_pacf(hsbc_train['Adj Close'].diff().dropna(), ax=ax)\n",
    "plt.show()"
   ]
  },
  {
   "attachments": {},
   "cell_type": "markdown",
   "metadata": {},
   "source": [
    "from Lecture 5, we can see that in ACF plot lag 0 is outside the blue area, we can initially try q = 0 MA(0).\n",
    "and in PACF plot, lag 0 is also outside the blue area, we can initially try p = 0 AR(0).\n",
    "so currently we can try ARIMA(p=0, d=1, q=0), let's check it with auto_arima to get the most optimal model and check the order of (0, 1, 0)."
   ]
  },
  {
   "cell_type": "code",
   "execution_count": 17,
   "metadata": {},
   "outputs": [
    {
     "name": "stdout",
     "output_type": "stream",
     "text": [
      "Performing stepwise search to minimize aic\n",
      " ARIMA(1,1,1)(0,0,0)[0] intercept   : AIC=12846.962, Time=1.27 sec\n",
      " ARIMA(0,1,0)(0,0,0)[0] intercept   : AIC=12844.022, Time=0.23 sec\n",
      " ARIMA(1,1,0)(0,0,0)[0] intercept   : AIC=12845.728, Time=0.16 sec\n",
      " ARIMA(0,1,1)(0,0,0)[0] intercept   : AIC=12845.737, Time=0.26 sec\n",
      " ARIMA(0,1,0)(0,0,0)[0]             : AIC=12842.029, Time=0.06 sec\n",
      "\n",
      "Best model:  ARIMA(0,1,0)(0,0,0)[0]          \n",
      "Total fit time: 1.979 seconds\n"
     ]
    }
   ],
   "source": [
    "hsbc_model = auto_arima(hsbc_train, start_p=1, start_q=1,\n",
    "                      test='adf',\n",
    "                      max_p=3, max_q=3,\n",
    "                      m=1,             \n",
    "                      d=1,          \n",
    "                      seasonal=True,   \n",
    "                      trace=True,\n",
    "                      error_action='ignore',  \n",
    "                      suppress_warnings=True, \n",
    "                      stepwise=True)"
   ]
  },
  {
   "attachments": {},
   "cell_type": "markdown",
   "metadata": {},
   "source": [
    "so it turns out (0, 1, 0) has the lowest AIC, but using p=0, q=0 will make the model no longer ARIMA model, so we could choose the order (1, 1, 1)"
   ]
  },
  {
   "cell_type": "code",
   "execution_count": 26,
   "metadata": {},
   "outputs": [
    {
     "name": "stderr",
     "output_type": "stream",
     "text": [
      "c:\\Users\\RonaldGustaf\\AppData\\Local\\Programs\\Python\\Python310\\lib\\site-packages\\statsmodels\\tsa\\base\\tsa_model.py:471: ValueWarning: A date index has been provided, but it has no associated frequency information and so will be ignored when e.g. forecasting.\n",
      "  self._init_dates(dates, freq)\n",
      "c:\\Users\\RonaldGustaf\\AppData\\Local\\Programs\\Python\\Python310\\lib\\site-packages\\statsmodels\\tsa\\base\\tsa_model.py:471: ValueWarning: A date index has been provided, but it has no associated frequency information and so will be ignored when e.g. forecasting.\n",
      "  self._init_dates(dates, freq)\n",
      "c:\\Users\\RonaldGustaf\\AppData\\Local\\Programs\\Python\\Python310\\lib\\site-packages\\statsmodels\\tsa\\base\\tsa_model.py:471: ValueWarning: A date index has been provided, but it has no associated frequency information and so will be ignored when e.g. forecasting.\n",
      "  self._init_dates(dates, freq)\n"
     ]
    },
    {
     "data": {
      "text/html": [
       "<table class=\"simpletable\">\n",
       "<caption>SARIMAX Results</caption>\n",
       "<tr>\n",
       "  <th>Dep. Variable:</th>       <td>Adj Close</td>    <th>  No. Observations:  </th>   <td>5750</td>   \n",
       "</tr>\n",
       "<tr>\n",
       "  <th>Model:</th>            <td>ARIMA(1, 1, 1)</td>  <th>  Log Likelihood     </th> <td>-6419.484</td>\n",
       "</tr>\n",
       "<tr>\n",
       "  <th>Date:</th>            <td>Tue, 07 Mar 2023</td> <th>  AIC                </th> <td>12844.969</td>\n",
       "</tr>\n",
       "<tr>\n",
       "  <th>Time:</th>                <td>03:14:44</td>     <th>  BIC                </th> <td>12864.939</td>\n",
       "</tr>\n",
       "<tr>\n",
       "  <th>Sample:</th>                  <td>0</td>        <th>  HQIC               </th> <td>12851.919</td>\n",
       "</tr>\n",
       "<tr>\n",
       "  <th></th>                      <td> - 5750</td>     <th>                     </th>     <td> </td>    \n",
       "</tr>\n",
       "<tr>\n",
       "  <th>Covariance Type:</th>        <td>opg</td>       <th>                     </th>     <td> </td>    \n",
       "</tr>\n",
       "</table>\n",
       "<table class=\"simpletable\">\n",
       "<tr>\n",
       "     <td></td>       <th>coef</th>     <th>std err</th>      <th>z</th>      <th>P>|z|</th>  <th>[0.025</th>    <th>0.975]</th>  \n",
       "</tr>\n",
       "<tr>\n",
       "  <th>ar.L1</th>  <td>   -0.6038</td> <td>    0.355</td> <td>   -1.700</td> <td> 0.089</td> <td>   -1.300</td> <td>    0.092</td>\n",
       "</tr>\n",
       "<tr>\n",
       "  <th>ma.L1</th>  <td>    0.5931</td> <td>    0.357</td> <td>    1.660</td> <td> 0.097</td> <td>   -0.107</td> <td>    1.293</td>\n",
       "</tr>\n",
       "<tr>\n",
       "  <th>sigma2</th> <td>    0.5463</td> <td>    0.004</td> <td>  137.850</td> <td> 0.000</td> <td>    0.538</td> <td>    0.554</td>\n",
       "</tr>\n",
       "</table>\n",
       "<table class=\"simpletable\">\n",
       "<tr>\n",
       "  <th>Ljung-Box (L1) (Q):</th>     <td>0.08</td> <th>  Jarque-Bera (JB):  </th> <td>30473.35</td>\n",
       "</tr>\n",
       "<tr>\n",
       "  <th>Prob(Q):</th>                <td>0.77</td> <th>  Prob(JB):          </th>   <td>0.00</td>  \n",
       "</tr>\n",
       "<tr>\n",
       "  <th>Heteroskedasticity (H):</th> <td>1.12</td> <th>  Skew:              </th>   <td>-0.38</td> \n",
       "</tr>\n",
       "<tr>\n",
       "  <th>Prob(H) (two-sided):</th>    <td>0.02</td> <th>  Kurtosis:          </th>   <td>14.25</td> \n",
       "</tr>\n",
       "</table><br/><br/>Warnings:<br/>[1] Covariance matrix calculated using the outer product of gradients (complex-step)."
      ],
      "text/plain": [
       "<class 'statsmodels.iolib.summary.Summary'>\n",
       "\"\"\"\n",
       "                               SARIMAX Results                                \n",
       "==============================================================================\n",
       "Dep. Variable:              Adj Close   No. Observations:                 5750\n",
       "Model:                 ARIMA(1, 1, 1)   Log Likelihood               -6419.484\n",
       "Date:                Tue, 07 Mar 2023   AIC                          12844.969\n",
       "Time:                        03:14:44   BIC                          12864.939\n",
       "Sample:                             0   HQIC                         12851.919\n",
       "                               - 5750                                         \n",
       "Covariance Type:                  opg                                         \n",
       "==============================================================================\n",
       "                 coef    std err          z      P>|z|      [0.025      0.975]\n",
       "------------------------------------------------------------------------------\n",
       "ar.L1         -0.6038      0.355     -1.700      0.089      -1.300       0.092\n",
       "ma.L1          0.5931      0.357      1.660      0.097      -0.107       1.293\n",
       "sigma2         0.5463      0.004    137.850      0.000       0.538       0.554\n",
       "===================================================================================\n",
       "Ljung-Box (L1) (Q):                   0.08   Jarque-Bera (JB):             30473.35\n",
       "Prob(Q):                              0.77   Prob(JB):                         0.00\n",
       "Heteroskedasticity (H):               1.12   Skew:                            -0.38\n",
       "Prob(H) (two-sided):                  0.02   Kurtosis:                        14.25\n",
       "===================================================================================\n",
       "\n",
       "Warnings:\n",
       "[1] Covariance matrix calculated using the outer product of gradients (complex-step).\n",
       "\"\"\""
      ]
     },
     "execution_count": 26,
     "metadata": {},
     "output_type": "execute_result"
    }
   ],
   "source": [
    "hsbc_model2 = ARIMA(hsbc_train['Adj Close'], order=(1, 1, 1)) \n",
    "arima_hsbc = hsbc_model2.fit()\n",
    "\n",
    "arima_hsbc.summary()"
   ]
  },
  {
   "attachments": {},
   "cell_type": "markdown",
   "metadata": {},
   "source": [
    "Galaxy"
   ]
  },
  {
   "cell_type": "code",
   "execution_count": 41,
   "metadata": {},
   "outputs": [
    {
     "data": {
      "text/plain": [
       "[<matplotlib.lines.Line2D at 0x1eabe075ff0>]"
      ]
     },
     "execution_count": 41,
     "metadata": {},
     "output_type": "execute_result"
    },
    {
     "data": {
      "image/png": "[encoded data removed]",
      "text/plain": [
       "<Figure size 432x288 with 1 Axes>"
      ]
     },
     "metadata": {
      "needs_background": "light"
     },
     "output_type": "display_data"
    }
   ],
   "source": [
    "plt.plot(gal['Date'], gal['Adj Close'])"
   ]
  },
  {
   "cell_type": "code",
   "execution_count": 42,
   "metadata": {},
   "outputs": [
    {
     "name": "stdout",
     "output_type": "stream",
     "text": [
      "164\n"
     ]
    },
    {
     "data": {
      "text/html": [
       "<div>\n",
       "<style scoped>\n",
       "    .dataframe tbody tr th:only-of-type {\n",
       "        vertical-align: middle;\n",
       "    }\n",
       "\n",
       "    .dataframe tbody tr th {\n",
       "        vertical-align: top;\n",
       "    }\n",
       "\n",
       "    .dataframe thead th {\n",
       "        text-align: right;\n",
       "    }\n",
       "</style>\n",
       "<table border=\"1\" class=\"dataframe\">\n",
       "  <thead>\n",
       "    <tr style=\"text-align: right;\">\n",
       "      <th></th>\n",
       "      <th>Adj Close</th>\n",
       "    </tr>\n",
       "    <tr>\n",
       "      <th>Date</th>\n",
       "      <th></th>\n",
       "    </tr>\n",
       "  </thead>\n",
       "  <tbody>\n",
       "    <tr>\n",
       "      <th>2000-02-04</th>\n",
       "      <td>NaN</td>\n",
       "    </tr>\n",
       "    <tr>\n",
       "      <th>2000-02-07</th>\n",
       "      <td>NaN</td>\n",
       "    </tr>\n",
       "    <tr>\n",
       "      <th>2000-04-04</th>\n",
       "      <td>NaN</td>\n",
       "    </tr>\n",
       "    <tr>\n",
       "      <th>2000-04-17</th>\n",
       "      <td>NaN</td>\n",
       "    </tr>\n",
       "    <tr>\n",
       "      <th>2000-04-18</th>\n",
       "      <td>NaN</td>\n",
       "    </tr>\n",
       "    <tr>\n",
       "      <th>...</th>\n",
       "      <td>...</td>\n",
       "    </tr>\n",
       "    <tr>\n",
       "      <th>2007-10-12</th>\n",
       "      <td>NaN</td>\n",
       "    </tr>\n",
       "    <tr>\n",
       "      <th>2008-08-06</th>\n",
       "      <td>NaN</td>\n",
       "    </tr>\n",
       "    <tr>\n",
       "      <th>2008-08-22</th>\n",
       "      <td>NaN</td>\n",
       "    </tr>\n",
       "    <tr>\n",
       "      <th>2011-12-24</th>\n",
       "      <td>NaN</td>\n",
       "    </tr>\n",
       "    <tr>\n",
       "      <th>2011-12-31</th>\n",
       "      <td>NaN</td>\n",
       "    </tr>\n",
       "  </tbody>\n",
       "</table>\n",
       "<p>164 rows × 1 columns</p>\n",
       "</div>"
      ],
      "text/plain": [
       "            Adj Close\n",
       "Date                 \n",
       "2000-02-04        NaN\n",
       "2000-02-07        NaN\n",
       "2000-04-04        NaN\n",
       "2000-04-17        NaN\n",
       "2000-04-18        NaN\n",
       "...               ...\n",
       "2007-10-12        NaN\n",
       "2008-08-06        NaN\n",
       "2008-08-22        NaN\n",
       "2011-12-24        NaN\n",
       "2011-12-31        NaN\n",
       "\n",
       "[164 rows x 1 columns]"
      ]
     },
     "execution_count": 42,
     "metadata": {},
     "output_type": "execute_result"
    }
   ],
   "source": [
    "gal_train = gal[gal['Date'] <= '2022-12-31'].loc[:, ['Date', 'Adj Close']]\n",
    "gal_train.set_index('Date', inplace=True)\n",
    "\n",
    "gal_test = gal[gal['Date'] > '2022-12-31'].loc[:, ['Date', 'Adj Close']]\n",
    "gal_test.set_index('Date', inplace=True)\n",
    "\n",
    "print(gal_train['Adj Close'].isna().sum())\n",
    "gal_train[gal_train['Adj Close'].isna()]"
   ]
  },
  {
   "cell_type": "code",
   "execution_count": 43,
   "metadata": {},
   "outputs": [
    {
     "data": {
      "text/html": [
       "<div>\n",
       "<style scoped>\n",
       "    .dataframe tbody tr th:only-of-type {\n",
       "        vertical-align: middle;\n",
       "    }\n",
       "\n",
       "    .dataframe tbody tr th {\n",
       "        vertical-align: top;\n",
       "    }\n",
       "\n",
       "    .dataframe thead th {\n",
       "        text-align: right;\n",
       "    }\n",
       "</style>\n",
       "<table border=\"1\" class=\"dataframe\">\n",
       "  <thead>\n",
       "    <tr style=\"text-align: right;\">\n",
       "      <th></th>\n",
       "      <th>Adj Close</th>\n",
       "    </tr>\n",
       "    <tr>\n",
       "      <th>Date</th>\n",
       "      <th></th>\n",
       "    </tr>\n",
       "  </thead>\n",
       "  <tbody>\n",
       "  </tbody>\n",
       "</table>\n",
       "</div>"
      ],
      "text/plain": [
       "Empty DataFrame\n",
       "Columns: [Adj Close]\n",
       "Index: []"
      ]
     },
     "execution_count": 43,
     "metadata": {},
     "output_type": "execute_result"
    }
   ],
   "source": [
    "gal_train[gal_train['Adj Close'] == 0]"
   ]
  },
  {
   "cell_type": "code",
   "execution_count": 44,
   "metadata": {},
   "outputs": [],
   "source": [
    "gal_train['Adj Close'] = gal_train['Adj Close'].interpolate(method='linear')"
   ]
  },
  {
   "cell_type": "code",
   "execution_count": 45,
   "metadata": {},
   "outputs": [
    {
     "name": "stderr",
     "output_type": "stream",
     "text": [
      "c:\\Users\\RonaldGustaf\\AppData\\Local\\Programs\\Python\\Python310\\lib\\site-packages\\statsmodels\\graphics\\tsaplots.py:348: FutureWarning: The default method 'yw' can produce PACF values outside of the [-1,1] interval. After 0.13, the default will change tounadjusted Yule-Walker ('ywm'). You can use this method now by setting method='ywm'.\n",
      "  warnings.warn(\n"
     ]
    },
    {
     "data": {
      "image/png": "[encoded data removed]",
      "text/plain": [
       "<Figure size 432x288 with 1 Axes>"
      ]
     },
     "metadata": {
      "needs_background": "light"
     },
     "output_type": "display_data"
    },
    {
     "data": {
      "image/png": "[encoded data removed]",
      "text/plain": [
       "<Figure size 432x288 with 1 Axes>"
      ]
     },
     "metadata": {
      "needs_background": "light"
     },
     "output_type": "display_data"
    }
   ],
   "source": [
    "acf = plot_acf(gal_train['Adj Close'])\n",
    "pacf = plot_pacf(gal_train['Adj Close'])"
   ]
  },
  {
   "cell_type": "code",
   "execution_count": 46,
   "metadata": {},
   "outputs": [
    {
     "name": "stdout",
     "output_type": "stream",
     "text": [
      "p-value: 0.7715003405036707\n",
      "p-value: 1.781570518187049e-29\n",
      "p-value: 0.0\n"
     ]
    }
   ],
   "source": [
    "adf_test = adfuller(gal_train['Adj Close'])\n",
    "print(f'p-value: {adf_test[1]}')\n",
    "\n",
    "adf_test = adfuller(gal_train['Adj Close'].diff().dropna())\n",
    "print(f'p-value: {adf_test[1]}')\n",
    "\n",
    "adf_test = adfuller(gal_train['Adj Close'].diff().diff().dropna())\n",
    "print(f'p-value: {adf_test[1]}')"
   ]
  },
  {
   "cell_type": "code",
   "execution_count": 47,
   "metadata": {},
   "outputs": [
    {
     "data": {
      "image/png": "[encoded data removed]",
      "text/plain": [
       "<Figure size 1440x504 with 1 Axes>"
      ]
     },
     "metadata": {
      "needs_background": "light"
     },
     "output_type": "display_data"
    },
    {
     "name": "stderr",
     "output_type": "stream",
     "text": [
      "c:\\Users\\RonaldGustaf\\AppData\\Local\\Programs\\Python\\Python310\\lib\\site-packages\\statsmodels\\graphics\\tsaplots.py:348: FutureWarning: The default method 'yw' can produce PACF values outside of the [-1,1] interval. After 0.13, the default will change tounadjusted Yule-Walker ('ywm'). You can use this method now by setting method='ywm'.\n",
      "  warnings.warn(\n"
     ]
    },
    {
     "data": {
      "image/png": "[encoded data removed]",
      "text/plain": [
       "<Figure size 1440x504 with 1 Axes>"
      ]
     },
     "metadata": {
      "needs_background": "light"
     },
     "output_type": "display_data"
    }
   ],
   "source": [
    "fig, ax = plt.subplots(figsize=(20,7))\n",
    "acf = plot_acf(gal_train['Adj Close'].diff().dropna(), ax=ax)\n",
    "plt.show()\n",
    "\n",
    "fig, ax = plt.subplots(figsize=(20,7))\n",
    "pacf = plot_pacf(gal_train['Adj Close'].diff().dropna(), ax=ax)\n",
    "plt.show()"
   ]
  },
  {
   "cell_type": "code",
   "execution_count": 48,
   "metadata": {},
   "outputs": [
    {
     "name": "stdout",
     "output_type": "stream",
     "text": [
      "Performing stepwise search to minimize aic\n",
      " ARIMA(1,1,1)(0,0,0)[0] intercept   : AIC=13550.411, Time=0.65 sec\n",
      " ARIMA(0,1,0)(0,0,0)[0] intercept   : AIC=13554.262, Time=0.24 sec\n",
      " ARIMA(1,1,0)(0,0,0)[0] intercept   : AIC=13550.174, Time=0.14 sec\n",
      " ARIMA(0,1,1)(0,0,0)[0] intercept   : AIC=13549.756, Time=0.23 sec\n",
      " ARIMA(0,1,0)(0,0,0)[0]             : AIC=13552.995, Time=0.05 sec\n",
      " ARIMA(0,1,2)(0,0,0)[0] intercept   : AIC=13546.374, Time=0.32 sec\n",
      " ARIMA(1,1,2)(0,0,0)[0] intercept   : AIC=13534.802, Time=1.18 sec\n",
      " ARIMA(2,1,2)(0,0,0)[0] intercept   : AIC=13518.674, Time=2.72 sec\n",
      " ARIMA(2,1,1)(0,0,0)[0] intercept   : AIC=13533.070, Time=0.98 sec\n",
      " ARIMA(3,1,2)(0,0,0)[0] intercept   : AIC=13517.788, Time=3.79 sec\n",
      " ARIMA(3,1,1)(0,0,0)[0] intercept   : AIC=13530.225, Time=1.20 sec\n",
      " ARIMA(3,1,3)(0,0,0)[0] intercept   : AIC=13517.796, Time=3.90 sec\n",
      " ARIMA(2,1,3)(0,0,0)[0] intercept   : AIC=13516.438, Time=3.63 sec\n",
      " ARIMA(1,1,3)(0,0,0)[0] intercept   : AIC=13530.903, Time=0.51 sec\n",
      " ARIMA(2,1,3)(0,0,0)[0]             : AIC=13515.114, Time=1.81 sec\n",
      " ARIMA(1,1,3)(0,0,0)[0]             : AIC=13529.782, Time=0.27 sec\n",
      " ARIMA(2,1,2)(0,0,0)[0]             : AIC=13517.468, Time=1.38 sec\n",
      " ARIMA(3,1,3)(0,0,0)[0]             : AIC=13516.136, Time=2.34 sec\n",
      " ARIMA(1,1,2)(0,0,0)[0]             : AIC=13533.684, Time=0.41 sec\n",
      " ARIMA(3,1,2)(0,0,0)[0]             : AIC=13515.303, Time=1.89 sec\n",
      "\n",
      "Best model:  ARIMA(2,1,3)(0,0,0)[0]          \n",
      "Total fit time: 27.662 seconds\n"
     ]
    }
   ],
   "source": [
    "gal_model = auto_arima(gal_train, start_p=1, start_q=1,\n",
    "                      test='adf',\n",
    "                      max_p=3, max_q=3,\n",
    "                      m=1,             \n",
    "                      d=1,          \n",
    "                      seasonal=True,   \n",
    "                      trace=True,\n",
    "                      error_action='ignore',  \n",
    "                      suppress_warnings=True, \n",
    "                      stepwise=True)"
   ]
  },
  {
   "cell_type": "code",
   "execution_count": 49,
   "metadata": {},
   "outputs": [
    {
     "data": {
      "text/html": [
       "<table class=\"simpletable\">\n",
       "<caption>SARIMAX Results</caption>\n",
       "<tr>\n",
       "  <th>Dep. Variable:</th>           <td>y</td>        <th>  No. Observations:  </th>   <td>5749</td>   \n",
       "</tr>\n",
       "<tr>\n",
       "  <th>Model:</th>           <td>SARIMAX(2, 1, 3)</td> <th>  Log Likelihood     </th> <td>-6751.557</td>\n",
       "</tr>\n",
       "<tr>\n",
       "  <th>Date:</th>            <td>Mon, 06 Mar 2023</td> <th>  AIC                </th> <td>13515.114</td>\n",
       "</tr>\n",
       "<tr>\n",
       "  <th>Time:</th>                <td>17:05:37</td>     <th>  BIC                </th> <td>13555.054</td>\n",
       "</tr>\n",
       "<tr>\n",
       "  <th>Sample:</th>                  <td>0</td>        <th>  HQIC               </th> <td>13529.014</td>\n",
       "</tr>\n",
       "<tr>\n",
       "  <th></th>                      <td> - 5749</td>     <th>                     </th>     <td> </td>    \n",
       "</tr>\n",
       "<tr>\n",
       "  <th>Covariance Type:</th>        <td>opg</td>       <th>                     </th>     <td> </td>    \n",
       "</tr>\n",
       "</table>\n",
       "<table class=\"simpletable\">\n",
       "<tr>\n",
       "     <td></td>       <th>coef</th>     <th>std err</th>      <th>z</th>      <th>P>|z|</th>  <th>[0.025</th>    <th>0.975]</th>  \n",
       "</tr>\n",
       "<tr>\n",
       "  <th>ar.L1</th>  <td>    1.5774</td> <td>    0.011</td> <td>  146.470</td> <td> 0.000</td> <td>    1.556</td> <td>    1.598</td>\n",
       "</tr>\n",
       "<tr>\n",
       "  <th>ar.L2</th>  <td>   -0.9524</td> <td>    0.010</td> <td>  -91.612</td> <td> 0.000</td> <td>   -0.973</td> <td>   -0.932</td>\n",
       "</tr>\n",
       "<tr>\n",
       "  <th>ma.L1</th>  <td>   -1.5490</td> <td>    0.013</td> <td> -118.202</td> <td> 0.000</td> <td>   -1.575</td> <td>   -1.523</td>\n",
       "</tr>\n",
       "<tr>\n",
       "  <th>ma.L2</th>  <td>    0.8904</td> <td>    0.017</td> <td>   53.683</td> <td> 0.000</td> <td>    0.858</td> <td>    0.923</td>\n",
       "</tr>\n",
       "<tr>\n",
       "  <th>ma.L3</th>  <td>    0.0291</td> <td>    0.008</td> <td>    3.858</td> <td> 0.000</td> <td>    0.014</td> <td>    0.044</td>\n",
       "</tr>\n",
       "<tr>\n",
       "  <th>sigma2</th> <td>    0.6134</td> <td>    0.005</td> <td>  135.517</td> <td> 0.000</td> <td>    0.605</td> <td>    0.622</td>\n",
       "</tr>\n",
       "</table>\n",
       "<table class=\"simpletable\">\n",
       "<tr>\n",
       "  <th>Ljung-Box (L1) (Q):</th>     <td>0.00</td>  <th>  Jarque-Bera (JB):  </th> <td>29605.84</td>\n",
       "</tr>\n",
       "<tr>\n",
       "  <th>Prob(Q):</th>                <td>0.96</td>  <th>  Prob(JB):          </th>   <td>0.00</td>  \n",
       "</tr>\n",
       "<tr>\n",
       "  <th>Heteroskedasticity (H):</th> <td>69.78</td> <th>  Skew:              </th>   <td>-0.09</td> \n",
       "</tr>\n",
       "<tr>\n",
       "  <th>Prob(H) (two-sided):</th>    <td>0.00</td>  <th>  Kurtosis:          </th>   <td>14.12</td> \n",
       "</tr>\n",
       "</table><br/><br/>Warnings:<br/>[1] Covariance matrix calculated using the outer product of gradients (complex-step)."
      ],
      "text/plain": [
       "<class 'statsmodels.iolib.summary.Summary'>\n",
       "\"\"\"\n",
       "                               SARIMAX Results                                \n",
       "==============================================================================\n",
       "Dep. Variable:                      y   No. Observations:                 5749\n",
       "Model:               SARIMAX(2, 1, 3)   Log Likelihood               -6751.557\n",
       "Date:                Mon, 06 Mar 2023   AIC                          13515.114\n",
       "Time:                        17:05:37   BIC                          13555.054\n",
       "Sample:                             0   HQIC                         13529.014\n",
       "                               - 5749                                         \n",
       "Covariance Type:                  opg                                         \n",
       "==============================================================================\n",
       "                 coef    std err          z      P>|z|      [0.025      0.975]\n",
       "------------------------------------------------------------------------------\n",
       "ar.L1          1.5774      0.011    146.470      0.000       1.556       1.598\n",
       "ar.L2         -0.9524      0.010    -91.612      0.000      -0.973      -0.932\n",
       "ma.L1         -1.5490      0.013   -118.202      0.000      -1.575      -1.523\n",
       "ma.L2          0.8904      0.017     53.683      0.000       0.858       0.923\n",
       "ma.L3          0.0291      0.008      3.858      0.000       0.014       0.044\n",
       "sigma2         0.6134      0.005    135.517      0.000       0.605       0.622\n",
       "===================================================================================\n",
       "Ljung-Box (L1) (Q):                   0.00   Jarque-Bera (JB):             29605.84\n",
       "Prob(Q):                              0.96   Prob(JB):                         0.00\n",
       "Heteroskedasticity (H):              69.78   Skew:                            -0.09\n",
       "Prob(H) (two-sided):                  0.00   Kurtosis:                        14.12\n",
       "===================================================================================\n",
       "\n",
       "Warnings:\n",
       "[1] Covariance matrix calculated using the outer product of gradients (complex-step).\n",
       "\"\"\""
      ]
     },
     "execution_count": 49,
     "metadata": {},
     "output_type": "execute_result"
    }
   ],
   "source": [
    "gal_model.summary()"
   ]
  },
  {
   "cell_type": "code",
   "execution_count": 50,
   "metadata": {},
   "outputs": [
    {
     "data": {
      "text/plain": [
       "[<matplotlib.lines.Line2D at 0x1eac5ea8d90>]"
      ]
     },
     "execution_count": 50,
     "metadata": {},
     "output_type": "execute_result"
    },
    {
     "data": {
      "image/png": "[encoded data removed]",
      "text/plain": [
       "<Figure size 432x288 with 1 Axes>"
      ]
     },
     "metadata": {
      "needs_background": "light"
     },
     "output_type": "display_data"
    }
   ],
   "source": [
    "plt.plot(hl['Date'], hl['Adj Close'])"
   ]
  },
  {
   "cell_type": "code",
   "execution_count": 51,
   "metadata": {},
   "outputs": [
    {
     "name": "stdout",
     "output_type": "stream",
     "text": [
      "82\n"
     ]
    },
    {
     "data": {
      "text/html": [
       "<div>\n",
       "<style scoped>\n",
       "    .dataframe tbody tr th:only-of-type {\n",
       "        vertical-align: middle;\n",
       "    }\n",
       "\n",
       "    .dataframe tbody tr th {\n",
       "        vertical-align: top;\n",
       "    }\n",
       "\n",
       "    .dataframe thead th {\n",
       "        text-align: right;\n",
       "    }\n",
       "</style>\n",
       "<table border=\"1\" class=\"dataframe\">\n",
       "  <thead>\n",
       "    <tr style=\"text-align: right;\">\n",
       "      <th></th>\n",
       "      <th>Adj Close</th>\n",
       "    </tr>\n",
       "    <tr>\n",
       "      <th>Date</th>\n",
       "      <th></th>\n",
       "    </tr>\n",
       "  </thead>\n",
       "  <tbody>\n",
       "    <tr>\n",
       "      <th>2000-02-04</th>\n",
       "      <td>NaN</td>\n",
       "    </tr>\n",
       "    <tr>\n",
       "      <th>2000-02-07</th>\n",
       "      <td>NaN</td>\n",
       "    </tr>\n",
       "    <tr>\n",
       "      <th>2000-04-04</th>\n",
       "      <td>NaN</td>\n",
       "    </tr>\n",
       "    <tr>\n",
       "      <th>2000-04-21</th>\n",
       "      <td>NaN</td>\n",
       "    </tr>\n",
       "    <tr>\n",
       "      <th>2000-04-24</th>\n",
       "      <td>NaN</td>\n",
       "    </tr>\n",
       "    <tr>\n",
       "      <th>...</th>\n",
       "      <td>...</td>\n",
       "    </tr>\n",
       "    <tr>\n",
       "      <th>2004-12-27</th>\n",
       "      <td>NaN</td>\n",
       "    </tr>\n",
       "    <tr>\n",
       "      <th>2008-08-06</th>\n",
       "      <td>NaN</td>\n",
       "    </tr>\n",
       "    <tr>\n",
       "      <th>2008-08-22</th>\n",
       "      <td>NaN</td>\n",
       "    </tr>\n",
       "    <tr>\n",
       "      <th>2011-12-24</th>\n",
       "      <td>NaN</td>\n",
       "    </tr>\n",
       "    <tr>\n",
       "      <th>2011-12-31</th>\n",
       "      <td>NaN</td>\n",
       "    </tr>\n",
       "  </tbody>\n",
       "</table>\n",
       "<p>82 rows × 1 columns</p>\n",
       "</div>"
      ],
      "text/plain": [
       "            Adj Close\n",
       "Date                 \n",
       "2000-02-04        NaN\n",
       "2000-02-07        NaN\n",
       "2000-04-04        NaN\n",
       "2000-04-21        NaN\n",
       "2000-04-24        NaN\n",
       "...               ...\n",
       "2004-12-27        NaN\n",
       "2008-08-06        NaN\n",
       "2008-08-22        NaN\n",
       "2011-12-24        NaN\n",
       "2011-12-31        NaN\n",
       "\n",
       "[82 rows x 1 columns]"
      ]
     },
     "execution_count": 51,
     "metadata": {},
     "output_type": "execute_result"
    }
   ],
   "source": [
    "hl_train = hl[hl['Date'] <= '2022-12-31'].loc[:, ['Date', 'Adj Close']]\n",
    "hl_train.set_index('Date', inplace=True)\n",
    "\n",
    "hl_test = hl[hl['Date'] > '2022-12-31'].loc[:, ['Date', 'Adj Close']]\n",
    "hl_test.set_index('Date', inplace=True)\n",
    "\n",
    "print(hl_train['Adj Close'].isna().sum())\n",
    "hl_train[hl_train['Adj Close'].isna()]"
   ]
  },
  {
   "cell_type": "code",
   "execution_count": 52,
   "metadata": {},
   "outputs": [
    {
     "data": {
      "text/html": [
       "<div>\n",
       "<style scoped>\n",
       "    .dataframe tbody tr th:only-of-type {\n",
       "        vertical-align: middle;\n",
       "    }\n",
       "\n",
       "    .dataframe tbody tr th {\n",
       "        vertical-align: top;\n",
       "    }\n",
       "\n",
       "    .dataframe thead th {\n",
       "        text-align: right;\n",
       "    }\n",
       "</style>\n",
       "<table border=\"1\" class=\"dataframe\">\n",
       "  <thead>\n",
       "    <tr style=\"text-align: right;\">\n",
       "      <th></th>\n",
       "      <th>Adj Close</th>\n",
       "    </tr>\n",
       "    <tr>\n",
       "      <th>Date</th>\n",
       "      <th></th>\n",
       "    </tr>\n",
       "  </thead>\n",
       "  <tbody>\n",
       "  </tbody>\n",
       "</table>\n",
       "</div>"
      ],
      "text/plain": [
       "Empty DataFrame\n",
       "Columns: [Adj Close]\n",
       "Index: []"
      ]
     },
     "execution_count": 52,
     "metadata": {},
     "output_type": "execute_result"
    }
   ],
   "source": [
    "hl_train[hl_train['Adj Close'] == 0]"
   ]
  },
  {
   "cell_type": "code",
   "execution_count": 53,
   "metadata": {},
   "outputs": [],
   "source": [
    "hl_train['Adj Close'] = hl_train['Adj Close'].interpolate(method='linear')"
   ]
  },
  {
   "cell_type": "code",
   "execution_count": 54,
   "metadata": {},
   "outputs": [
    {
     "name": "stderr",
     "output_type": "stream",
     "text": [
      "c:\\Users\\RonaldGustaf\\AppData\\Local\\Programs\\Python\\Python310\\lib\\site-packages\\statsmodels\\graphics\\tsaplots.py:348: FutureWarning: The default method 'yw' can produce PACF values outside of the [-1,1] interval. After 0.13, the default will change tounadjusted Yule-Walker ('ywm'). You can use this method now by setting method='ywm'.\n",
      "  warnings.warn(\n"
     ]
    },
    {
     "data": {
      "image/png": "[encoded data removed]",
      "text/plain": [
       "<Figure size 432x288 with 1 Axes>"
      ]
     },
     "metadata": {
      "needs_background": "light"
     },
     "output_type": "display_data"
    },
    {
     "data": {
      "image/png": "[encoded data removed]",
      "text/plain": [
       "<Figure size 432x288 with 1 Axes>"
      ]
     },
     "metadata": {
      "needs_background": "light"
     },
     "output_type": "display_data"
    }
   ],
   "source": [
    "acf = plot_acf(hl_train['Adj Close'])\n",
    "pacf = plot_pacf(hl_train['Adj Close'])"
   ]
  },
  {
   "cell_type": "code",
   "execution_count": 55,
   "metadata": {},
   "outputs": [
    {
     "data": {
      "image/png": "[encoded data removed]",
      "text/plain": [
       "<Figure size 1440x504 with 1 Axes>"
      ]
     },
     "metadata": {
      "needs_background": "light"
     },
     "output_type": "display_data"
    },
    {
     "data": {
      "image/png": "[encoded data removed]",
      "text/plain": [
       "<Figure size 1440x504 with 1 Axes>"
      ]
     },
     "metadata": {
      "needs_background": "light"
     },
     "output_type": "display_data"
    }
   ],
   "source": [
    "fig, ax = plt.subplots(figsize=(20,7))\n",
    "acf = plot_acf(hl_train['Adj Close'].diff().dropna(), ax=ax)\n",
    "plt.show()\n",
    "\n",
    "fig, ax = plt.subplots(figsize=(20,7))\n",
    "pacf = plot_pacf(hl_train['Adj Close'].diff().dropna(), ax=ax)\n",
    "plt.show()"
   ]
  },
  {
   "cell_type": "code",
   "execution_count": 56,
   "metadata": {},
   "outputs": [
    {
     "name": "stdout",
     "output_type": "stream",
     "text": [
      "Performing stepwise search to minimize aic\n",
      " ARIMA(1,1,1)(0,0,0)[0] intercept   : AIC=1857.024, Time=1.71 sec\n",
      " ARIMA(0,1,0)(0,0,0)[0] intercept   : AIC=1864.516, Time=0.39 sec\n",
      " ARIMA(1,1,0)(0,0,0)[0] intercept   : AIC=1863.990, Time=0.16 sec\n",
      " ARIMA(0,1,1)(0,0,0)[0] intercept   : AIC=1863.850, Time=0.40 sec\n",
      " ARIMA(0,1,0)(0,0,0)[0]             : AIC=1862.854, Time=0.13 sec\n",
      " ARIMA(2,1,1)(0,0,0)[0] intercept   : AIC=1863.945, Time=0.26 sec\n",
      " ARIMA(1,1,2)(0,0,0)[0] intercept   : AIC=1858.868, Time=1.87 sec\n",
      " ARIMA(0,1,2)(0,0,0)[0] intercept   : AIC=1861.741, Time=0.40 sec\n",
      " ARIMA(2,1,0)(0,0,0)[0] intercept   : AIC=1861.945, Time=0.21 sec\n",
      " ARIMA(2,1,2)(0,0,0)[0] intercept   : AIC=1860.872, Time=1.06 sec\n",
      " ARIMA(1,1,1)(0,0,0)[0]             : AIC=1855.550, Time=0.47 sec\n",
      " ARIMA(0,1,1)(0,0,0)[0]             : AIC=1862.204, Time=0.13 sec\n",
      " ARIMA(1,1,0)(0,0,0)[0]             : AIC=1862.343, Time=0.15 sec\n",
      " ARIMA(2,1,1)(0,0,0)[0]             : AIC=1862.317, Time=0.27 sec\n",
      " ARIMA(1,1,2)(0,0,0)[0]             : AIC=1857.400, Time=0.66 sec\n",
      " ARIMA(0,1,2)(0,0,0)[0]             : AIC=1860.116, Time=0.17 sec\n",
      " ARIMA(2,1,0)(0,0,0)[0]             : AIC=1860.317, Time=0.28 sec\n",
      " ARIMA(2,1,2)(0,0,0)[0]             : AIC=1858.794, Time=0.96 sec\n",
      "\n",
      "Best model:  ARIMA(1,1,1)(0,0,0)[0]          \n",
      "Total fit time: 9.682 seconds\n"
     ]
    }
   ],
   "source": [
    "hl_model = auto_arima(hl_train, start_p=1, start_q=1,\n",
    "                      test='adf',\n",
    "                      max_p=3, max_q=3,\n",
    "                      m=1,             \n",
    "                      d=1,          \n",
    "                      seasonal=True,   \n",
    "                      trace=True,\n",
    "                      error_action='ignore',  \n",
    "                      suppress_warnings=True, \n",
    "                      stepwise=True)"
   ]
  },
  {
   "cell_type": "code",
   "execution_count": 57,
   "metadata": {},
   "outputs": [
    {
     "data": {
      "text/html": [
       "<table class=\"simpletable\">\n",
       "<caption>SARIMAX Results</caption>\n",
       "<tr>\n",
       "  <th>Dep. Variable:</th>           <td>y</td>        <th>  No. Observations:  </th>   <td>5749</td>  \n",
       "</tr>\n",
       "<tr>\n",
       "  <th>Model:</th>           <td>SARIMAX(1, 1, 1)</td> <th>  Log Likelihood     </th> <td>-924.775</td>\n",
       "</tr>\n",
       "<tr>\n",
       "  <th>Date:</th>            <td>Mon, 06 Mar 2023</td> <th>  AIC                </th> <td>1855.550</td>\n",
       "</tr>\n",
       "<tr>\n",
       "  <th>Time:</th>                <td>17:10:42</td>     <th>  BIC                </th> <td>1875.519</td>\n",
       "</tr>\n",
       "<tr>\n",
       "  <th>Sample:</th>                  <td>0</td>        <th>  HQIC               </th> <td>1862.500</td>\n",
       "</tr>\n",
       "<tr>\n",
       "  <th></th>                      <td> - 5749</td>     <th>                     </th>     <td> </td>   \n",
       "</tr>\n",
       "<tr>\n",
       "  <th>Covariance Type:</th>        <td>opg</td>       <th>                     </th>     <td> </td>   \n",
       "</tr>\n",
       "</table>\n",
       "<table class=\"simpletable\">\n",
       "<tr>\n",
       "     <td></td>       <th>coef</th>     <th>std err</th>      <th>z</th>      <th>P>|z|</th>  <th>[0.025</th>    <th>0.975]</th>  \n",
       "</tr>\n",
       "<tr>\n",
       "  <th>ar.L1</th>  <td>    0.9087</td> <td>    0.033</td> <td>   27.571</td> <td> 0.000</td> <td>    0.844</td> <td>    0.973</td>\n",
       "</tr>\n",
       "<tr>\n",
       "  <th>ma.L1</th>  <td>   -0.9272</td> <td>    0.030</td> <td>  -31.314</td> <td> 0.000</td> <td>   -0.985</td> <td>   -0.869</td>\n",
       "</tr>\n",
       "<tr>\n",
       "  <th>sigma2</th> <td>    0.0808</td> <td>    0.001</td> <td>   96.905</td> <td> 0.000</td> <td>    0.079</td> <td>    0.082</td>\n",
       "</tr>\n",
       "</table>\n",
       "<table class=\"simpletable\">\n",
       "<tr>\n",
       "  <th>Ljung-Box (L1) (Q):</th>     <td>0.10</td> <th>  Jarque-Bera (JB):  </th> <td>5005.88</td>\n",
       "</tr>\n",
       "<tr>\n",
       "  <th>Prob(Q):</th>                <td>0.75</td> <th>  Prob(JB):          </th>  <td>0.00</td>  \n",
       "</tr>\n",
       "<tr>\n",
       "  <th>Heteroskedasticity (H):</th> <td>4.11</td> <th>  Skew:              </th>  <td>0.06</td>  \n",
       "</tr>\n",
       "<tr>\n",
       "  <th>Prob(H) (two-sided):</th>    <td>0.00</td> <th>  Kurtosis:          </th>  <td>7.57</td>  \n",
       "</tr>\n",
       "</table><br/><br/>Warnings:<br/>[1] Covariance matrix calculated using the outer product of gradients (complex-step)."
      ],
      "text/plain": [
       "<class 'statsmodels.iolib.summary.Summary'>\n",
       "\"\"\"\n",
       "                               SARIMAX Results                                \n",
       "==============================================================================\n",
       "Dep. Variable:                      y   No. Observations:                 5749\n",
       "Model:               SARIMAX(1, 1, 1)   Log Likelihood                -924.775\n",
       "Date:                Mon, 06 Mar 2023   AIC                           1855.550\n",
       "Time:                        17:10:42   BIC                           1875.519\n",
       "Sample:                             0   HQIC                          1862.500\n",
       "                               - 5749                                         \n",
       "Covariance Type:                  opg                                         \n",
       "==============================================================================\n",
       "                 coef    std err          z      P>|z|      [0.025      0.975]\n",
       "------------------------------------------------------------------------------\n",
       "ar.L1          0.9087      0.033     27.571      0.000       0.844       0.973\n",
       "ma.L1         -0.9272      0.030    -31.314      0.000      -0.985      -0.869\n",
       "sigma2         0.0808      0.001     96.905      0.000       0.079       0.082\n",
       "===================================================================================\n",
       "Ljung-Box (L1) (Q):                   0.10   Jarque-Bera (JB):              5005.88\n",
       "Prob(Q):                              0.75   Prob(JB):                         0.00\n",
       "Heteroskedasticity (H):               4.11   Skew:                             0.06\n",
       "Prob(H) (two-sided):                  0.00   Kurtosis:                         7.57\n",
       "===================================================================================\n",
       "\n",
       "Warnings:\n",
       "[1] Covariance matrix calculated using the outer product of gradients (complex-step).\n",
       "\"\"\""
      ]
     },
     "execution_count": 57,
     "metadata": {},
     "output_type": "execute_result"
    }
   ],
   "source": [
    "hl_model.summary()"
   ]
  }
 ],
 "metadata": {
  "kernelspec": {
   "display_name": "Python 3",
   "language": "python",
   "name": "python3"
  },
  "language_info": {
   "codemirror_mode": {
    "name": "ipython",
    "version": 3
   },
   "file_extension": ".py",
   "mimetype": "text/x-python",
   "name": "python",
   "nbconvert_exporter": "python",
   "pygments_lexer": "ipython3",
   "version": "3.10.4"
  },
  "orig_nbformat": 4,
  "vscode": {
   "interpreter": {
    "hash": "1eaa98eb9421485df41dbc01261b7168b57c9396d66ada9b73d69aeadc3b32a6"
   }
  }
 },
 "nbformat": 4,
 "nbformat_minor": 2
}
